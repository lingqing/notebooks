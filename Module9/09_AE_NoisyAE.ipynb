{
 "cells": [
  {
   "cell_type": "markdown",
   "metadata": {},
   "source": [
    "[![Dataflowr](https://raw.githubusercontent.com/dataflowr/website/master/_assets/dataflowr_logo.png)](https://dataflowr.github.io/website/)"
   ]
  },
  {
   "cell_type": "markdown",
   "metadata": {
    "colab_type": "text",
    "id": "G1w5n0W02uiH"
   },
   "source": [
    "# Unsupervised learning with Autoencoder\n",
    "\n",
    "We first play with MNIST dataset and pieces of code seen during the course."
   ]
  },
  {
   "cell_type": "code",
   "execution_count": 1,
   "metadata": {
    "colab": {},
    "colab_type": "code",
    "id": "CFac0UPC2uiI"
   },
   "outputs": [
    {
     "name": "stderr",
     "output_type": "stream",
     "text": [
      "/home/andy/anaconda3/envs/py37/lib/python3.7/site-packages/torchvision/io/image.py:13: UserWarning: Failed to load image Python extension: /home/andy/anaconda3/envs/py37/lib/python3.7/site-packages/torchvision/image.so: undefined symbol: _ZNK3c1010TensorImpl36is_contiguous_nondefault_policy_implENS_12MemoryFormatE\n",
      "  warn(f\"Failed to load image Python extension: {e}\")\n"
     ]
    }
   ],
   "source": [
    "import os\n",
    "import numpy as np\n",
    "import matplotlib.pyplot as plt\n",
    "\n",
    "import torch\n",
    "import torch.nn as nn\n",
    "import torch.nn.functional as F\n",
    "import torch.optim as optim\n",
    "from torchvision import datasets, transforms\n",
    "\n",
    "%matplotlib inline"
   ]
  },
  {
   "cell_type": "markdown",
   "metadata": {
    "colab_type": "text",
    "id": "s7XyL-JX2uiM"
   },
   "source": [
    "## Loading MNIST"
   ]
  },
  {
   "cell_type": "code",
   "execution_count": null,
   "metadata": {
    "colab": {},
    "colab_type": "code",
    "id": "9yAsJijZ2uiM"
   },
   "outputs": [],
   "source": [
    "device = torch.device(\"cuda:0\" if torch.cuda.is_available() else \"cpu\")\n",
    "\n",
    "print('Using gpu: %s ' % torch.cuda.is_available())"
   ]
  },
  {
   "cell_type": "code",
   "execution_count": 11,
   "metadata": {
    "colab": {},
    "colab_type": "code",
    "id": "6koHB8Z_2uiQ"
   },
   "outputs": [],
   "source": [
    "# to be modified if not on colab\n",
    "root_dir = '/home/andy/00_workspace/dl/data/09/content/data/MNIST/'\n",
    "train_loader = torch.utils.data.DataLoader(\n",
    "    datasets.MNIST(root_dir, train=True, download=True, transform=transforms.ToTensor()),\n",
    "    batch_size=256, shuffle=True)\n",
    "\n",
    "test_loader = torch.utils.data.DataLoader(\n",
    "    datasets.MNIST(root_dir, train=False, download=True, transform=transforms.ToTensor()),\n",
    "    batch_size=10, shuffle=False)"
   ]
  },
  {
   "cell_type": "markdown",
   "metadata": {
    "colab_type": "text",
    "id": "s1M2kLzn2uiT"
   },
   "source": [
    "## Helper Functions"
   ]
  },
  {
   "cell_type": "code",
   "execution_count": 12,
   "metadata": {
    "colab": {},
    "colab_type": "code",
    "id": "wugVCUrI2uiT"
   },
   "outputs": [],
   "source": [
    "def to_img(x):\n",
    "    x = x.cpu().data.numpy()\n",
    "    x = 0.5 * (x + 1)\n",
    "    x = np.clip(x, 0, 1)\n",
    "    x = x.reshape([-1, 28, 28])\n",
    "    return x\n",
    "\n",
    "def plot_reconstructions(model):\n",
    "    \"\"\"\n",
    "    Plot 10 reconstructions from the test set. The top row is the original\n",
    "    digits, the bottom is the decoder reconstruction.\n",
    "    The middle row is the encoded vector.\n",
    "    The encoder is called by model.encoder\n",
    "    The decoder is called by model.decoder\n",
    "    \"\"\"\n",
    "    # encode then decode\n",
    "    data, _ = next(iter(test_loader))\n",
    "    data = data.view([-1, 784])\n",
    "    data.requires_grad = False\n",
    "    data = data.to(device)\n",
    "    true_imgs = data\n",
    "    encoded_imgs = model.encoder(data)\n",
    "    decoded_imgs = model.decoder(encoded_imgs)\n",
    "    \n",
    "    true_imgs = to_img(true_imgs)\n",
    "    decoded_imgs = to_img(decoded_imgs)\n",
    "    encoded_imgs = encoded_imgs.cpu().data.numpy()\n",
    "    \n",
    "    n = 10\n",
    "    plt.figure(figsize=(20, 4))\n",
    "    for i in range(n):\n",
    "        # display original\n",
    "        ax = plt.subplot(3, n, i + 1)\n",
    "        plt.imshow(true_imgs[i])\n",
    "        plt.gray()\n",
    "        plt.title('Original')\n",
    "        ax.get_xaxis().set_visible(False)\n",
    "        ax.get_yaxis().set_visible(False)\n",
    "        \n",
    "        ax = plt.subplot(3, n, i + 1 + n)\n",
    "        plt.imshow(encoded_imgs[i].reshape(-1,4))\n",
    "        plt.gray()\n",
    "        plt.title('encode')\n",
    "        ax.get_xaxis().set_visible(False)\n",
    "        ax.get_yaxis().set_visible(False)\n",
    "\n",
    "        # display reconstruction\n",
    "        ax = plt.subplot(3, n, i + 1 + n + n)\n",
    "        plt.imshow(decoded_imgs[i])\n",
    "        plt.gray()\n",
    "        plt.title('gen')\n",
    "        ax.get_xaxis().set_visible(False)\n",
    "        ax.get_yaxis().set_visible(False)\n",
    "    \n",
    "    plt.show()"
   ]
  },
  {
   "cell_type": "markdown",
   "metadata": {
    "colab_type": "text",
    "id": "dRAI3MaO2uiW"
   },
   "source": [
    "## Simple Auto-Encoder\n",
    "\n",
    "We'll start with the simplest autoencoder: a single, fully-connected layer as the encoder and decoder."
   ]
  },
  {
   "cell_type": "code",
   "execution_count": null,
   "metadata": {
    "colab": {},
    "colab_type": "code",
    "id": "GApDwy6e2uiW"
   },
   "outputs": [],
   "source": [
    "class AutoEncoder(nn.Module):\n",
    "    def __init__(self, input_dim, encoding_dim):\n",
    "        super(AutoEncoder, self).__init__()\n",
    "        self.encoder = nn.Linear(input_dim, encoding_dim)\n",
    "        self.decoder = nn.Linear(encoding_dim, input_dim)\n",
    "\n",
    "    def forward(self, x):\n",
    "        encoded = F.relu(self.encoder(x))\n",
    "        decoded = self.decoder(encoded)\n",
    "        return decoded"
   ]
  },
  {
   "cell_type": "code",
   "execution_count": null,
   "metadata": {
    "colab": {},
    "colab_type": "code",
    "id": "oUbMKILV2uiZ"
   },
   "outputs": [],
   "source": [
    "input_dim = 784\n",
    "encoding_dim = 64\n",
    "\n",
    "model = AutoEncoder(input_dim, encoding_dim)\n",
    "model = model.to(device)\n",
    "optimizer = optim.Adam(model.parameters())\n",
    "loss_fn = torch.nn.MSELoss()"
   ]
  },
  {
   "cell_type": "markdown",
   "metadata": {
    "colab_type": "text",
    "id": "ZaNO1R_G2uid"
   },
   "source": [
    "Why did we take 784 as input dimension?\n",
    "\n",
    "To find the learning rate, see the documentation for [Adam optimizer](https://pytorch.org/docs/stable/optim.html#torch.optim.Adam)."
   ]
  },
  {
   "cell_type": "code",
   "execution_count": null,
   "metadata": {
    "colab": {},
    "colab_type": "code",
    "id": "e3Zh8eQ_2uid"
   },
   "outputs": [],
   "source": [
    "def train_model(model,loss_fn,data_loader=None,epochs=1,optimizer=None):\n",
    "    model.train()\n",
    "    for epoch in range(epochs):\n",
    "        for batch_idx, (data, _) in enumerate(train_loader):\n",
    "            data = data.view([-1, 784]).to(device)\n",
    "            optimizer.zero_grad()\n",
    "            output = model(data)\n",
    "            loss = loss_fn(output, data)\n",
    "            loss.backward()\n",
    "            optimizer.step()\n",
    "            if batch_idx % 100 == 0:\n",
    "                print('Train Epoch: {} [{}/{} ({:.0f}%)]\\tLoss: {:.6f}'.format(\n",
    "                    epoch, batch_idx * len(data), len(data_loader.dataset),\n",
    "                    100. * batch_idx / len(data_loader), loss.data.item()))"
   ]
  },
  {
   "cell_type": "code",
   "execution_count": null,
   "metadata": {
    "colab": {},
    "colab_type": "code",
    "id": "dybe6kLJ2uig",
    "scrolled": true
   },
   "outputs": [],
   "source": [
    "train_model(model, loss_fn, data_loader=train_loader, epochs=10, optimizer=optimizer)"
   ]
  },
  {
   "cell_type": "code",
   "execution_count": null,
   "metadata": {
    "colab": {},
    "colab_type": "code",
    "id": "NOPJgAUh2uij"
   },
   "outputs": [],
   "source": [
    "plot_reconstructions(model)"
   ]
  },
  {
   "cell_type": "markdown",
   "metadata": {
    "colab_type": "text",
    "id": "xhCiHP7P2uil"
   },
   "source": [
    "## 1. Exercise: Stacked Autoencoder\n",
    "\n",
    "Now you will code an autoencoder where both the encoder and the decoder are multilayer perceptron (MLP). You can take for the encoder a first hidden layer with dimension 128, a second one with dimension 64 and then the code of dimension 32. For the decoder, you can take the same sequence of dimensions in reverse order."
   ]
  },
  {
   "cell_type": "code",
   "execution_count": null,
   "metadata": {
    "colab": {},
    "colab_type": "code",
    "id": "SrTmxg7z2uim"
   },
   "outputs": [],
   "source": [
    "class DeepAutoEncoder(nn.Module):\n",
    "    def __init__(self, input_dim, encoding_dim):\n",
    "        super(DeepAutoEncoder, self).__init__()\n",
    "        #\n",
    "        # your code here\n",
    "        #\n",
    "        self.encoder = nn.Sequential(\n",
    "            nn.Linear(input_dim, 128),\n",
    "            nn.ReLU(),\n",
    "            nn.Linear(128, 64),\n",
    "            nn.ReLU(),\n",
    "            nn.Linear(64, encoding_dim),\n",
    "            nn.ReLU(),\n",
    "        )\n",
    "        self.decoder = nn.Sequential(\n",
    "            nn.Linear(encoding_dim, 64),\n",
    "            nn.ReLU(),\n",
    "            nn.Linear(64, 128),\n",
    "            nn.ReLU(),\n",
    "            nn.Linear(128, input_dim),\n",
    "            nn.ReLU(),\n",
    "        )\n",
    "    def forward(self, x):\n",
    "        #\n",
    "        # your code here\n",
    "        #\n",
    "        return self.decoder(self.encoder(x))\n",
    "    \n",
    "    def encode(self, x):\n",
    "        return self.encoder(x)"
   ]
  },
  {
   "cell_type": "code",
   "execution_count": null,
   "metadata": {
    "colab": {},
    "colab_type": "code",
    "id": "Bm_n3sI92uiq"
   },
   "outputs": [],
   "source": [
    "input_dim = 784\n",
    "encoding_dim = 32\n",
    "\n",
    "model = DeepAutoEncoder(input_dim, encoding_dim)\n",
    "model = model.to(device)\n",
    "optimizer = optim.Adam(model.parameters())\n",
    "loss_fn = torch.nn.MSELoss()"
   ]
  },
  {
   "cell_type": "code",
   "execution_count": null,
   "metadata": {
    "colab": {},
    "colab_type": "code",
    "id": "8VNi4vtk2uit",
    "scrolled": true
   },
   "outputs": [],
   "source": [
    "train_model(model, loss_fn,data_loader=train_loader,epochs=10,optimizer=optimizer)"
   ]
  },
  {
   "cell_type": "code",
   "execution_count": null,
   "metadata": {
    "colab": {},
    "colab_type": "code",
    "id": "nraDkOnC2uiv"
   },
   "outputs": [],
   "source": [
    "plot_reconstructions(model)"
   ]
  },
  {
   "cell_type": "markdown",
   "metadata": {
    "colab_type": "text",
    "id": "XIWLi9Ps2uix"
   },
   "source": [
    "Replace the `MSELoss` with a `BCEWithLogitsLoss` for each pixel. Note the unusual use of `BCEWithLogitsLoss`! You can have a look at the definition of [Cross Entropy](https://en.wikipedia.org/wiki/Cross_entropy)."
   ]
  },
  {
   "cell_type": "markdown",
   "metadata": {
    "colab_type": "text",
    "id": "9S8qgLsO2uix"
   },
   "source": [
    "## 2. Optional\n",
    "\n",
    "At this stage, you can code the interpolation described in the lesson to obtain:\n",
    "\n",
    "![](https://raw.githubusercontent.com/dataflowr/slides/master/images/module9/interp_AE.png)"
   ]
  },
  {
   "cell_type": "code",
   "execution_count": null,
   "metadata": {
    "colab": {},
    "colab_type": "code",
    "id": "9VCJLQXE2ujS"
   },
   "outputs": [],
   "source": []
  },
  {
   "cell_type": "markdown",
   "metadata": {
    "colab_type": "text",
    "id": "Z3sm7Pi62ujU"
   },
   "source": [
    "# 3. Exercise: Implement a denoising AE:\n",
    "\n",
    "\n",
    "Use previous code and with minimal modifications, transform your AE in a denoising AE. Now, you first apply some noise to your input and try to recover the original data at the output. For the noise, you can add some random noise or erase some of the pixels. In this last case, you should obtain something like: \n",
    "\n",
    "![](https://raw.githubusercontent.com/dataflowr/slides/master/images/module9/denoising_AE.png)\n",
    "\n",
    "The first line corresponds to the original digit, the second line to the noisy version of the digit given as input to your network, the third line is the associated code and the last line is the denoised digit obtained by your decoder from the code."
   ]
  },
  {
   "cell_type": "code",
   "execution_count": null,
   "metadata": {},
   "outputs": [],
   "source": [
    "sample_data = next(iter(train_loader))"
   ]
  },
  {
   "cell_type": "code",
   "execution_count": null,
   "metadata": {},
   "outputs": [],
   "source": [
    "# torch.max(sample_data[0][0])\n",
    "sample_data[0][0]"
   ]
  },
  {
   "cell_type": "code",
   "execution_count": null,
   "metadata": {
    "colab": {},
    "colab_type": "code",
    "id": "isYFcQFS2ujU"
   },
   "outputs": [],
   "source": [
    "# You need first to modify the training process by adding noise to your data\n",
    "# Hint if you want to erase pixels: https://stackoverflow.com/questions/49216615/is-there-an-efficient-way-to-create-a-random-bit-mask-in-pytorch\n",
    "# add noise to an image\n",
    "def add_noise(x, noise=0.1):\n",
    "\n",
    "    return (x + torch.rand_like(x)*noise)\n",
    "# def rand_mask(x):\n",
    "#     return torch.rand\n",
    "def train_denoiser(model,loss_fn,data_loader=None,epochs=1,optimizer=None, noise=0.1):\n",
    "    model.train()\n",
    "    for epoch in range(epochs):\n",
    "        for batch_idx, (data, _) in enumerate(train_loader):\n",
    "            #\n",
    "            # your code here to create the noisy_data\n",
    "            #\n",
    "            data = data.to(device).view(-1, 784)\n",
    "            noisy_data = add_noise(data, noise=noise)\n",
    "            optimizer.zero_grad()\n",
    "            # output = model(noisy_data)\n",
    "            output = model(noisy_data)\n",
    "            # print(f'output.shape = {output.shape}')\n",
    "            # return\n",
    "            # label = (data+0.5).type(torch.LongTensor).type(torch.FloatTensor).to(device)\n",
    "            # print(label.shape, label.dtype)\n",
    "            # return\n",
    "            loss = loss_fn(output, data)\n",
    "            loss.backward()\n",
    "            optimizer.step()\n",
    "                \n",
    "            if batch_idx % 100 == 0:\n",
    "                print('Train Epoch: {} [{}/{} ({:.0f}%)]\\tLoss: {:.6f}'.format(\n",
    "                    epoch, batch_idx * len(data), len(data_loader.dataset),\n",
    "                    100. * batch_idx / len(data_loader), loss.data.item()))"
   ]
  },
  {
   "cell_type": "code",
   "execution_count": null,
   "metadata": {
    "colab": {},
    "colab_type": "code",
    "id": "EBkQbfVl2ujX"
   },
   "outputs": [],
   "source": [
    "input_dim = 784\n",
    "encoding_dim = 32\n",
    "\n",
    "model = DeepAutoEncoder(input_dim, encoding_dim)\n",
    "model = model.to(device)\n",
    "optimizer = optim.Adam(model.parameters())\n",
    "loss_fn = torch.nn.BCEWithLogitsLoss()"
   ]
  },
  {
   "cell_type": "code",
   "execution_count": null,
   "metadata": {
    "colab": {},
    "colab_type": "code",
    "id": "KlYqlT822ujZ"
   },
   "outputs": [],
   "source": [
    "train_denoiser(model, loss_fn,data_loader=train_loader,epochs=10,optimizer=optimizer, noise=0.8)\n",
    "# train_denoiser(model, nn.MSELoss(),data_loader=train_loader,epochs=10,optimizer=optimizer, noise=0.8)"
   ]
  },
  {
   "cell_type": "code",
   "execution_count": 13,
   "metadata": {
    "colab": {},
    "colab_type": "code",
    "id": "LGixZVJF2ujW"
   },
   "outputs": [],
   "source": [
    "# Now you need to modify the plot function\n",
    "def plot_denoising(model, noise=0.1):\n",
    "    \"\"\"\n",
    "    Plot 10 reconstructions from the test set. The top row is the original\n",
    "    digits, , the second row is the noisy digits, \n",
    "    the third row is the encoded vector and\n",
    "    the bottom is the decoder reconstruction.\n",
    "    \"\"\"\n",
    "    # encode then decode\n",
    "    data, _ = next(iter(test_loader))\n",
    "    #\n",
    "    # your code here to compute\n",
    "    # noisy_data\n",
    "    # encoded_imgs\n",
    "    # decoded_imgs\n",
    "    #\n",
    "    noisy_data = add_noise(data, noise)\n",
    "    decoded_imgs = model(noisy_data.view(-1, 784).to(device))\n",
    "    encoded_imgs = model.encoder(noisy_data.view(-1, 784).to(device))\n",
    "    true_imgs = to_img(data)\n",
    "    noisy_imgs = to_img(noisy_data)\n",
    "    decoded_imgs = to_img(decoded_imgs)\n",
    "    encoded_imgs = encoded_imgs.cpu().data.numpy()\n",
    "    \n",
    "    n = 10\n",
    "    plt.figure(figsize=(20, 4))\n",
    "    for i in range(n):\n",
    "        # display original\n",
    "        ax = plt.subplot(4, n, i + 1)\n",
    "        plt.imshow(true_imgs[i])\n",
    "        plt.gray()\n",
    "        ax.get_xaxis().set_visible(False)\n",
    "        ax.get_yaxis().set_visible(False)\n",
    "        \n",
    "        # display corrupted original\n",
    "        ax = plt.subplot(4, n, i + 1 +n)\n",
    "        plt.imshow(noisy_imgs[i])\n",
    "        plt.gray()\n",
    "        ax.get_xaxis().set_visible(False)\n",
    "        ax.get_yaxis().set_visible(False)\n",
    "        \n",
    "        # display code\n",
    "        ax = plt.subplot(4, n, i + 1 + 2*n)\n",
    "        plt.imshow(encoded_imgs[i].reshape(-1,4))\n",
    "        plt.gray()\n",
    "        ax.get_xaxis().set_visible(False)\n",
    "        ax.get_yaxis().set_visible(False)\n",
    "\n",
    "        # display reconstruction\n",
    "        ax = plt.subplot(4, n, i + 1 +  3*n)\n",
    "        plt.imshow(decoded_imgs[i])\n",
    "        plt.gray()\n",
    "        ax.get_xaxis().set_visible(False)\n",
    "        ax.get_yaxis().set_visible(False)\n",
    "    \n",
    "    plt.show()"
   ]
  },
  {
   "cell_type": "code",
   "execution_count": null,
   "metadata": {
    "colab": {},
    "colab_type": "code",
    "id": "RFLDJ6f_2ujb"
   },
   "outputs": [],
   "source": [
    "plot_denoising(model, noise=0.8)"
   ]
  },
  {
   "cell_type": "markdown",
   "metadata": {
    "colab": {},
    "colab_type": "code",
    "id": "ddKvatCh2ujn"
   },
   "source": [
    "# 4. Optional: how to deal with convolutions?\n",
    "\n",
    "Hint: start by decreasing the size of your image with `Conv2d` by using a `stride` like:"
   ]
  },
  {
   "cell_type": "code",
   "execution_count": null,
   "metadata": {},
   "outputs": [],
   "source": [
    "conv = nn.Conv2d(in_channels=8, out_channels=16, kernel_size=3, padding=1, stride=2)\n",
    "x = torch.randn(2, 8, 64, 64)\n",
    "y = conv(x)\n",
    "y.shape"
   ]
  },
  {
   "cell_type": "markdown",
   "metadata": {},
   "source": [
    "Now use [transposed convolution](https://pytorch.org/docs/stable/generated/torch.nn.ConvTranspose2d.html) (or [deconvolution](https://distill.pub/2016/deconv-checkerboard/)) with the same parameters:"
   ]
  },
  {
   "cell_type": "code",
   "execution_count": null,
   "metadata": {},
   "outputs": [],
   "source": [
    "convt = nn.ConvTranspose2d(in_channels=16, out_channels=8, kernel_size=3, padding=1, stride=2, output_padding=1)"
   ]
  },
  {
   "cell_type": "code",
   "execution_count": null,
   "metadata": {},
   "outputs": [],
   "source": [
    "convt(y).shape"
   ]
  },
  {
   "cell_type": "code",
   "execution_count": null,
   "metadata": {},
   "outputs": [],
   "source": [
    "convt2 = nn.ConvTranspose2d(in_channels=32, out_channels=16, kernel_size=7)\n",
    "convt3 = nn.ConvTranspose2d(in_channels=16, out_channels=8, kernel_size=3,padding=1, stride=2, output_padding=1)\n",
    "convt4 = nn.ConvTranspose2d(in_channels=8, out_channels=1, kernel_size=3, padding=1,stride=2, output_padding=1)\n",
    "# convt2 = nn.ConvTranspose2d(in_channels=32, out_channels=16, kernel_size=7)\n",
    "c2 = convt2(torch.ones(2, 32, 1, 1))\n",
    "c3 = convt3(c2)\n",
    "c4 = convt4(c3)\n",
    "print(c2.shape, c3.shape, c4.shape)"
   ]
  },
  {
   "cell_type": "markdown",
   "metadata": {},
   "source": [
    "To get the same size as `x`, play with `output_padding`.\n",
    "\n",
    "Now, you have all the tools to build a convolutional autoencoder!"
   ]
  },
  {
   "cell_type": "code",
   "execution_count": 4,
   "metadata": {},
   "outputs": [],
   "source": [
    "device = torch.device(\"cuda\" if torch.cuda.is_available() else \"cpu\")"
   ]
  },
  {
   "cell_type": "code",
   "execution_count": 5,
   "metadata": {},
   "outputs": [],
   "source": [
    "class ConvAutoEncoder(nn.Module):\n",
    "    def __init__(self, encoding_dim):\n",
    "        super(ConvAutoEncoder, self).__init__()\n",
    "        #\n",
    "        # your code here\n",
    "        #\n",
    "        self.encoder_layers = nn.Sequential(\n",
    "            nn.Conv2d(1, 8, 3, stride = 2, padding = 1), # to 14x14\n",
    "            nn.ReLU(),\n",
    "            nn.Conv2d(8, 16, 3, stride = 2, padding = 1), # to 7x7\n",
    "            nn.ReLU(),\n",
    "            nn.Conv2d(16, encoding_dim, kernel_size= 7, stride = 1), # to 1x1\n",
    "            nn.ReLU()\n",
    "        )\n",
    "        self.decoder_layers = nn.Sequential(\n",
    "            nn.ConvTranspose2d(encoding_dim, 16, kernel_size = 7), # to 7x7\n",
    "            nn.ReLU(),\n",
    "            nn.ConvTranspose2d(16, 8, 3, stride=2, padding=1, output_padding=1), # to 14x14\n",
    "            nn.ReLU(),\n",
    "            nn.ConvTranspose2d(8, 1, 3, stride=2, padding=1, output_padding=1), # to 28x28\n",
    "            nn.ReLU()\n",
    "        )\n",
    "    def forward(self, x):\n",
    "        #\n",
    "        # your code here\n",
    "        #\n",
    "        return self.decoder_layers(self.encoder_layers(x.view(-1, 1, 28, 28))).view(-1, 784)\n",
    "    \n",
    "    def encoder(self, x):\n",
    "        return self.encoder_layers(x.view(-1, 1, 28, 28)).squeeze()"
   ]
  },
  {
   "cell_type": "code",
   "execution_count": 16,
   "metadata": {},
   "outputs": [],
   "source": [
    "model_conv = ConvAutoEncoder(encoding_dim=32).to(device)\n",
    "optimizer = torch.optim.Adam(model_conv.parameters(), lr=1e-3)\n"
   ]
  },
  {
   "cell_type": "code",
   "execution_count": 7,
   "metadata": {},
   "outputs": [],
   "source": [
    "def add_noise(x, noise=0.1):\n",
    "    return (x + torch.rand_like(x)*noise)\n",
    "\n",
    "def train_conv_denoiser(model,loss_fn,data_loader=None,epochs=1,optimizer=None, noise=0.1):\n",
    "    model.train()\n",
    "    for epoch in range(epochs):\n",
    "        for batch_idx, (data, _) in enumerate(train_loader):\n",
    "            #\n",
    "            # your code here to create the noisy_data\n",
    "            #\n",
    "            data = data.to(device).view(-1, 784)\n",
    "            noisy_data = add_noise(data, noise=noise)\n",
    "            # output = model(noisy_data)\n",
    "            output = model(noisy_data)\n",
    "            # print(f'data.shape={data.shape}, output.shape = {output.shape}')\n",
    "            # return\n",
    "            # label = (data+0.5).type(torch.LongTensor).type(torch.FloatTensor).to(device)\n",
    "            # print(label.shape, label.dtype)\n",
    "            # return\n",
    "            loss = loss_fn(output, data)\n",
    "            \n",
    "            optimizer.zero_grad()\n",
    "            loss.backward()\n",
    "            optimizer.step()\n",
    "                \n",
    "            if batch_idx % 100 == 0:\n",
    "                print('Train Epoch: {} [{}/{} ({:.0f}%)]\\tLoss: {:.6f}'.format(\n",
    "                    epoch, batch_idx * len(data), len(data_loader.dataset),\n",
    "                    100. * batch_idx / len(data_loader), loss.data.item()))"
   ]
  },
  {
   "cell_type": "code",
   "execution_count": 18,
   "metadata": {},
   "outputs": [],
   "source": [
    "# loss_fn = nn.MSELoss()\n",
    "loss_fn = nn.BCEWithLogitsLoss()"
   ]
  },
  {
   "cell_type": "code",
   "execution_count": 24,
   "metadata": {},
   "outputs": [
    {
     "name": "stdout",
     "output_type": "stream",
     "text": [
      "Train Epoch: 0 [0/60000 (0%)]\tLoss: 0.682342\n",
      "Train Epoch: 0 [25600/60000 (43%)]\tLoss: 0.676913\n",
      "Train Epoch: 0 [51200/60000 (85%)]\tLoss: 0.671832\n",
      "Train Epoch: 1 [0/60000 (0%)]\tLoss: 0.671257\n",
      "Train Epoch: 1 [25600/60000 (43%)]\tLoss: 0.666855\n",
      "Train Epoch: 1 [51200/60000 (85%)]\tLoss: 0.662689\n",
      "Train Epoch: 2 [0/60000 (0%)]\tLoss: 0.661628\n",
      "Train Epoch: 2 [25600/60000 (43%)]\tLoss: 0.659770\n",
      "Train Epoch: 2 [51200/60000 (85%)]\tLoss: 0.658266\n"
     ]
    }
   ],
   "source": [
    "train_conv_denoiser(model_conv, loss_fn,data_loader=train_loader,epochs=3,optimizer=optimizer, noise=0.8)"
   ]
  },
  {
   "cell_type": "code",
   "execution_count": 25,
   "metadata": {},
   "outputs": [
    {
     "data": {
      "image/png": "[encoded data removed]",
      "text/plain": [
       "<Figure size 1440x288 with 40 Axes>"
      ]
     },
     "metadata": {
      "needs_background": "light"
     },
     "output_type": "display_data"
    }
   ],
   "source": [
    "plot_denoising(model_conv, noise=0.8)"
   ]
  },
  {
   "cell_type": "markdown",
   "metadata": {},
   "source": [
    "[![Dataflowr](https://raw.githubusercontent.com/dataflowr/website/master/_assets/dataflowr_logo.png)](https://dataflowr.github.io/website/)"
   ]
  }
 ],
 "metadata": {
  "accelerator": "GPU",
  "colab": {
   "include_colab_link": false,
   "name": "09_AE_NoisyAE.ipynb",
   "provenance": []
  },
  "kernelspec": {
   "display_name": "Python 3",
   "language": "python",
   "name": "python3"
  },
  "language_info": {
   "codemirror_mode": {
    "name": "ipython",
    "version": 3
   },
   "file_extension": ".py",
   "mimetype": "text/x-python",
   "name": "python",
   "nbconvert_exporter": "python",
   "pygments_lexer": "ipython3",
   "version": "3.7.12"
  }
 },
 "nbformat": 4,
 "nbformat_minor": 1
}
